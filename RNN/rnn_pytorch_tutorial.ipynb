{
 "cells": [
  {
   "attachments": {},
   "cell_type": "markdown",
   "id": "b0386667",
   "metadata": {},
   "source": [
    "# RNN Tutorial"
   ]
  },
  {
   "attachments": {},
   "cell_type": "markdown",
   "id": "888043a3",
   "metadata": {},
   "source": [
    "Included in the data/names directory are 18 text files named as “[Language].txt”. Each file contains a bunch of names, one name per line, mostly romanized (but we still need to convert from Unicode to ASCII).\n",
    "\n",
    "We’ll end up with a dictionary of lists of names per language, {language: [names ...]}. The generic variables “category” and “line” (for language and name in our case) are used for later extensibility."
   ]
  },
  {
   "cell_type": "code",
   "execution_count": 68,
   "id": "b44343fa",
   "metadata": {
    "scrolled": true
   },
   "outputs": [
    {
     "name": "stdout",
     "output_type": "stream",
     "text": [
      "['/codes/DeepLearning/DL/RNN/data/names/Chinese.txt', '/codes/DeepLearning/DL/RNN/data/names/Portuguese.txt', '/codes/DeepLearning/DL/RNN/data/names/German.txt', '/codes/DeepLearning/DL/RNN/data/names/Irish.txt', '/codes/DeepLearning/DL/RNN/data/names/Czech.txt', '/codes/DeepLearning/DL/RNN/data/names/Russian.txt', '/codes/DeepLearning/DL/RNN/data/names/Dutch.txt', '/codes/DeepLearning/DL/RNN/data/names/Scottish.txt', '/codes/DeepLearning/DL/RNN/data/names/Polish.txt', '/codes/DeepLearning/DL/RNN/data/names/Japanese.txt', '/codes/DeepLearning/DL/RNN/data/names/Vietnamese.txt', '/codes/DeepLearning/DL/RNN/data/names/English.txt', '/codes/DeepLearning/DL/RNN/data/names/Italian.txt', '/codes/DeepLearning/DL/RNN/data/names/French.txt', '/codes/DeepLearning/DL/RNN/data/names/Arabic.txt', '/codes/DeepLearning/DL/RNN/data/names/Korean.txt', '/codes/DeepLearning/DL/RNN/data/names/Greek.txt', '/codes/DeepLearning/DL/RNN/data/names/Spanish.txt']\n",
      "Slusarski\n"
     ]
    }
   ],
   "source": [
    "from __future__ import unicode_literals, print_function, division\n",
    "from io import open\n",
    "import glob\n",
    "import os\n",
    "\n",
    "def findFiles(path): return glob.glob(path)\n",
    "\n",
    "print(findFiles('/codes/DeepLearning/DL/RNN/data/names/*.txt'))\n",
    "\n",
    "import unicodedata\n",
    "import string\n",
    "\n",
    "all_letters = string.ascii_letters + \" .,;'\"\n",
    "n_letters = len(all_letters)\n",
    "\n",
    "# Turn a Unicode string to plain ASCII, thanks to https://stackoverflow.com/a/518232/2809427\n",
    "def unicodeToAscii(s):\n",
    "    return ''.join(\n",
    "        c for c in unicodedata.normalize('NFD', s)\n",
    "        if unicodedata.category(c) != 'Mn'\n",
    "        and c in all_letters\n",
    "    )\n",
    "\n",
    "print(unicodeToAscii('Ślusàrski'))\n",
    "\n",
    "# Build the category_lines dictionary, a list of names per language\n",
    "category_lines = {}\n",
    "all_categories = []\n",
    "\n",
    "# Read a file and split into lines\n",
    "def readLines(filename):\n",
    "    lines = open(filename, encoding='utf-8').read().strip().split('\\n')\n",
    "    return [unicodeToAscii(line) for line in lines]\n",
    "\n",
    "for filename in findFiles('/codes/DeepLearning/DL/RNN/data/names/*.txt'):\n",
    "    category = os.path.splitext(os.path.basename(filename))[0]\n",
    "    all_categories.append(category)\n",
    "    lines = readLines(filename)\n",
    "    category_lines[category] = lines\n",
    "\n",
    "n_categories = len(all_categories)"
   ]
  },
  {
   "attachments": {},
   "cell_type": "markdown",
   "id": "e58f58a0",
   "metadata": {},
   "source": [
    "Now we have category_lines, a dictionary mapping each category (language) to a list of lines (names). We also kept track of all_categories (just a list of languages) and n_categories for later reference."
   ]
  },
  {
   "cell_type": "code",
   "execution_count": 69,
   "id": "03a992d9",
   "metadata": {},
   "outputs": [
    {
     "name": "stdout",
     "output_type": "stream",
     "text": [
      "['Abandonato', 'Abatangelo', 'Abatantuono', 'Abate', 'Abategiovanni']\n"
     ]
    }
   ],
   "source": [
    "print(category_lines['Italian'][:5])"
   ]
  },
  {
   "attachments": {},
   "cell_type": "markdown",
   "id": "6c219cf0",
   "metadata": {},
   "source": [
    "### Turning Names into Tensors\n",
    "Now that we have all the names organized, we need to turn them into Tensors to make any use of them.\n",
    "\n",
    "To represent a single letter, we use a “one-hot vector” of size <1 x n_letters>. A one-hot vector is filled with 0s except for a 1 at index of the current letter, e.g. \"b\" = <0 1 0 0 0 ...>.\n",
    "\n",
    "To make a word we join a bunch of those into a 2D matrix <line_length x 1 x n_letters>.\n",
    "\n",
    "That extra 1 dimension is because PyTorch assumes everything is in batches - we’re just using a batch size of 1 here."
   ]
  },
  {
   "cell_type": "code",
   "execution_count": 70,
   "id": "c479aae7",
   "metadata": {
    "scrolled": true
   },
   "outputs": [
    {
     "name": "stdout",
     "output_type": "stream",
     "text": [
      "tensor([[0., 0., 0., 0., 0., 0., 0., 0., 0., 0., 0., 0., 0., 0., 0., 0., 0., 0.,\n",
      "         0., 0., 0., 0., 0., 0., 0., 0., 0., 0., 0., 0., 0., 0., 0., 0., 0., 1.,\n",
      "         0., 0., 0., 0., 0., 0., 0., 0., 0., 0., 0., 0., 0., 0., 0., 0., 0., 0.,\n",
      "         0., 0., 0.]])\n",
      "torch.Size([5, 1, 57])\n"
     ]
    }
   ],
   "source": [
    "import torch\n",
    "\n",
    "# Find letter index from all_letters, e.g. \"a\" = 0\n",
    "def letterToIndex(letter):\n",
    "    return all_letters.find(letter)\n",
    "\n",
    "# Just for demonstration, turn a letter into a <1 x n_letters> Tensor\n",
    "def letterToTensor(letter):\n",
    "    tensor = torch.zeros(1, n_letters)\n",
    "    tensor[0][letterToIndex(letter)] = 1\n",
    "    return tensor\n",
    "\n",
    "# Turn a line into a <line_length x 1 x n_letters>,\n",
    "# or an array of one-hot letter vectors\n",
    "def lineToTensor(line):\n",
    "    tensor = torch.zeros(len(line), 1, n_letters)\n",
    "    for li, letter in enumerate(line):\n",
    "        tensor[li][0][letterToIndex(letter)] = 1\n",
    "    return tensor\n",
    "\n",
    "print(letterToTensor('J'))\n",
    "\n",
    "print(lineToTensor('Jones').size())"
   ]
  },
  {
   "attachments": {},
   "cell_type": "markdown",
   "id": "8a979493",
   "metadata": {},
   "source": [
    "### Creating the Network\n",
    "Before autograd, creating a recurrent neural network in Torch involved cloning the parameters of a layer over several timesteps. The layers held hidden state and gradients which are now entirely handled by the graph itself. This means you can implement a RNN in a very “pure” way, as regular feed-forward layers.\n",
    "\n",
    "This RNN module (mostly copied from the PyTorch for Torch users tutorial) is just 2 linear layers which operate on an input and hidden state, with a LogSoftmax layer after the output."
   ]
  },
  {
   "attachments": {
    "rnn.png": {
     "image/png": "[encoded data removed]"
    }
   },
   "cell_type": "markdown",
   "id": "a5802423",
   "metadata": {},
   "source": [
    "![rnn.png](attachment:rnn.png)"
   ]
  },
  {
   "cell_type": "code",
   "execution_count": 71,
   "id": "cc618041",
   "metadata": {},
   "outputs": [],
   "source": [
    "import torch.nn as nn\n",
    "\n",
    "class RNN(nn.Module):\n",
    "    def __init__(self, input_size, hidden_size, output_size):\n",
    "        super(RNN, self).__init__()\n",
    "\n",
    "        self.hidden_size = hidden_size\n",
    "\n",
    "        self.i2h = nn.Linear(input_size + hidden_size, hidden_size)\n",
    "        self.i2o = nn.Linear(input_size + hidden_size, output_size)\n",
    "        self.softmax = nn.LogSoftmax(dim=1)\n",
    "\n",
    "    def forward(self, input, hidden):\n",
    "        combined = torch.cat((input, hidden), 1)\n",
    "        hidden = self.i2h(combined)\n",
    "        output = self.i2o(combined)\n",
    "        output = self.softmax(output)\n",
    "        return output, hidden\n",
    "\n",
    "    def initHidden(self):\n",
    "        return torch.zeros(1, self.hidden_size)\n",
    "\n",
    "n_hidden = 128\n",
    "rnn = RNN(n_letters, n_hidden, n_categories)"
   ]
  },
  {
   "cell_type": "code",
   "execution_count": 72,
   "id": "2b217762",
   "metadata": {},
   "outputs": [],
   "source": [
    "class LSTMCell(nn.Module):\n",
    "    def __init__(self, input_size, hidden_size):\n",
    "        super().__init__()\n",
    "\n",
    "        self.sigmoid = nn.Sigmoid()\n",
    "        self.tanh = nn.Tanh()\n",
    "        self.i_fgate = nn.Linear(input_size, hidden_size, bias=True)\n",
    "        self.h_fgate = nn.Linear(hidden_size, hidden_size, bias=True)\n",
    "\n",
    "        self.i_igate = nn.Linear(input_size, hidden_size, bias=True)\n",
    "        self.h_igate = nn.Linear(hidden_size, hidden_size, bias=True)\n",
    "\n",
    "        self.i_cell = nn.Linear(input_size, hidden_size, bias=True)\n",
    "        self.h_cell = nn.Linear(hidden_size, hidden_size, bias=True)\n",
    "\n",
    "        self.i_ogate = nn.Linear(input_size, hidden_size, bias=True)\n",
    "        self.h_ogate = nn.Linear(hidden_size, hidden_size, bias=True)\n",
    "        \n",
    "        #init\n",
    "        for m in self.modules():\n",
    "            if isinstance(m, nn.Linear):\n",
    "                nn.init.xavier_normal_(m.weight)\n",
    "    \n",
    "    def forward(self, x, hidden):\n",
    "        ht_prev, ct_prev = hidden\n",
    "\n",
    "        fgate = self.sigmoid(self.i_fgate(x) + self.h_fgate(ht_prev))\n",
    "        igate = self.sigmoid(self.i_igate(x) + self.h_igate(ht_prev))\n",
    "        cellt_hat = self.tanh(self.i_cell(x) + self.h_cell(ht_prev))\n",
    "        ogate = self.sigmoid(self.i_ogate(x) + self.h_ogate(ht_prev))\n",
    "\n",
    "        ct_next = torch.mul(ct_prev, fgate) + torch.mul(igate, cellt_hat)\n",
    "        ht_next = torch.mul(self.tanh(ct_next), ogate)\n",
    "\n",
    "        return (ht_next, ct_next)\n",
    "    \n",
    "class LSTM(nn.Module):\n",
    "    def __init__(self, input_size, hidden_size, output_size):\n",
    "        super(LSTM, self).__init__()\n",
    "        self.hidden_size = hidden_size\n",
    "        self.lstm_cell = LSTMCell(input_size=input_size, hidden_size=hidden_size)\n",
    "\n",
    "        self.fc = nn.Linear(hidden_size, output_size)\n",
    "\n",
    "        self.softmax = nn.LogSoftmax(dim=1)\n",
    "\n",
    "    def forward(self, x, hidden):\n",
    "        hidden = self.lstm_cell(x, hidden)\n",
    "        h, _ = hidden\n",
    "        out = self.fc(h)\n",
    "        out = self.softmax(out)\n",
    "\n",
    "        return out, hidden\n",
    "\n",
    "    def initHidden(self):\n",
    "        h0 = torch.zeros(1, self.hidden_size)\n",
    "        c0 = torch.zeros(1, self.hidden_size)\n",
    "        return h0, c0\n",
    "    \n",
    "n_hidden = 128\n",
    "lstm = LSTM(n_letters, n_hidden, n_categories)"
   ]
  },
  {
   "cell_type": "code",
   "execution_count": 73,
   "id": "8ed620ba",
   "metadata": {},
   "outputs": [],
   "source": [
    "class GRUCell(nn.Module):\n",
    "    def __init__(self, input_size, hidden_size):\n",
    "        super().__init__()\n",
    "\n",
    "        self.sigmoid = nn.Sigmoid()\n",
    "        self.tanh = nn.Tanh()\n",
    "        self.i_rgate = nn.Linear(input_size, hidden_size, bias=True)\n",
    "        self.h_rgate = nn.Linear(hidden_size, hidden_size, bias=True)\n",
    "\n",
    "        self.i_zgate = nn.Linear(input_size, hidden_size, bias=True)\n",
    "        self.h_zgate = nn.Linear(hidden_size, hidden_size, bias=True)\n",
    "\n",
    "        self.i_cell = nn.Linear(input_size, hidden_size, bias=True)\n",
    "        self.h_cell = nn.Linear(hidden_size, hidden_size, bias=True)\n",
    "\n",
    "        self.i_hgate = nn.Linear(input_size, hidden_size, bias=True)\n",
    "        self.h_hgate = nn.Linear(hidden_size, hidden_size, bias=True)\n",
    "        \n",
    "        #init\n",
    "        for m in self.modules():\n",
    "            if isinstance(m, nn.Linear):\n",
    "                nn.init.xavier_normal_(m.weight)\n",
    "    \n",
    "    def forward(self, x, hidden):\n",
    "\n",
    "        rgate = self.sigmoid(self.i_rgate(x) + self.h_rgate(hidden))\n",
    "        zgate = self.sigmoid(self.i_zgate(x) + self.h_zgate(hidden))\n",
    "        hgate = self.tanh(self.i_hgate(x) + self.h_hgate(torch.mul(hidden, rgate)))\n",
    "\n",
    "        hidden_next = torch.mul(zgate, hidden) + torch.mul((1 - zgate), hgate)\n",
    "\n",
    "        return hidden_next\n",
    "    \n",
    "class GRU(nn.Module):\n",
    "    def __init__(self, input_size, hidden_size, output_size):\n",
    "        super(GRU, self).__init__()\n",
    "        self.hidden_size = hidden_size\n",
    "        self.gru_cell = GRUCell(input_size=input_size, hidden_size=hidden_size)\n",
    "\n",
    "        self.fc = nn.Linear(hidden_size, output_size)\n",
    "\n",
    "        self.softmax = nn.LogSoftmax(dim=1)\n",
    "\n",
    "    def forward(self, x, hidden):\n",
    "        hidden = self.gru_cell(x, hidden)\n",
    "        out = self.fc(hidden)\n",
    "        out = self.softmax(out)\n",
    "\n",
    "        return out, hidden\n",
    "\n",
    "    def initHidden(self):\n",
    "        h0 = torch.zeros(1, self.hidden_size)\n",
    "        return h0\n",
    "\n",
    "gru = GRU(n_letters, n_hidden, n_categories)"
   ]
  },
  {
   "attachments": {},
   "cell_type": "markdown",
   "id": "9e1fa5ee",
   "metadata": {},
   "source": [
    "To run a step of this network we need to pass an input (in our case, the Tensor for the current letter) and a previous hidden state (which we initialize as zeros at first). We’ll get back the output (probability of each language) and a next hidden state (which we keep for the next step)."
   ]
  },
  {
   "cell_type": "code",
   "execution_count": 74,
   "id": "b4b9eecb",
   "metadata": {},
   "outputs": [],
   "source": [
    "input = letterToTensor('A')\n",
    "hidden = torch.zeros(1, n_hidden)\n",
    "\n",
    "output, next_hidden = rnn(input, hidden)"
   ]
  },
  {
   "attachments": {},
   "cell_type": "markdown",
   "id": "eb17c8f1",
   "metadata": {},
   "source": [
    "For the sake of efficiency we don’t want to be creating a new Tensor for every step, so we will use lineToTensor instead of letterToTensor and use slices. This could be further optimized by pre-computing batches of Tensors."
   ]
  },
  {
   "cell_type": "code",
   "execution_count": 75,
   "id": "b5c2d9ad",
   "metadata": {},
   "outputs": [
    {
     "name": "stdout",
     "output_type": "stream",
     "text": [
      "tensor([[0.0534, 0.0555, 0.0577, 0.0518, 0.0548, 0.0517, 0.0513, 0.0562, 0.0634,\n",
      "         0.0595, 0.0539, 0.0600, 0.0556, 0.0570, 0.0583, 0.0546, 0.0495, 0.0560]],\n",
      "       grad_fn=<ExpBackward0>)\n"
     ]
    }
   ],
   "source": [
    "input = lineToTensor('Albert')\n",
    "hidden = torch.zeros(1, n_hidden)\n",
    "\n",
    "output, next_hidden = rnn(input[0], hidden)\n",
    "print(torch.exp(output))"
   ]
  },
  {
   "attachments": {},
   "cell_type": "markdown",
   "id": "7cf3d70c",
   "metadata": {},
   "source": [
    "As you can see the output is a <1 x n_categories> Tensor, where every item is the likelihood of that category (higher is more likely)."
   ]
  },
  {
   "attachments": {},
   "cell_type": "markdown",
   "id": "5b07c378",
   "metadata": {},
   "source": [
    "### Preparing for Training\n",
    "Before going into training we should make a few helper functions. The first is to interpret the output of the network, which we know to be a likelihood of each category. We can use Tensor.topk to get the index of the greatest value:"
   ]
  },
  {
   "cell_type": "code",
   "execution_count": 76,
   "id": "0fa90972",
   "metadata": {},
   "outputs": [
    {
     "name": "stdout",
     "output_type": "stream",
     "text": [
      "('Polish', 8)\n"
     ]
    }
   ],
   "source": [
    "def categoryFromOutput(output):\n",
    "    top_n, top_i = output.topk(1)\n",
    "    category_i = top_i[0].item()\n",
    "    return all_categories[category_i], category_i\n",
    "\n",
    "print(categoryFromOutput(output))"
   ]
  },
  {
   "attachments": {},
   "cell_type": "markdown",
   "id": "627e3f73",
   "metadata": {},
   "source": [
    "We will also want a quick way to get a training example (a name and its language):"
   ]
  },
  {
   "cell_type": "code",
   "execution_count": 77,
   "id": "2c3ee352",
   "metadata": {},
   "outputs": [
    {
     "name": "stdout",
     "output_type": "stream",
     "text": [
      "category = Polish / line = Chlebek\n",
      "category = German / line = Mueller\n",
      "category = Chinese / line = Gui\n",
      "category = Korean / line = Chin\n",
      "category = Japanese / line = Shinozaki\n",
      "category = Polish / line = Auttenberg\n",
      "category = Portuguese / line = Souza\n",
      "category = Czech / line = Stites\n",
      "category = Irish / line = Farrell\n",
      "category = Dutch / line = Nifterick\n"
     ]
    }
   ],
   "source": [
    "import random\n",
    "\n",
    "def randomChoice(l):\n",
    "    return l[random.randint(0, len(l) - 1)]\n",
    "\n",
    "def randomTrainingExample():\n",
    "    category = randomChoice(all_categories)\n",
    "    line = randomChoice(category_lines[category])\n",
    "    category_tensor = torch.tensor([all_categories.index(category)], dtype=torch.long)\n",
    "    line_tensor = lineToTensor(line)\n",
    "    return category, line, category_tensor, line_tensor\n",
    "\n",
    "for i in range(10):\n",
    "    category, line, category_tensor, line_tensor = randomTrainingExample()\n",
    "    print('category =', category, '/ line =', line)"
   ]
  },
  {
   "attachments": {},
   "cell_type": "markdown",
   "id": "c40c4996",
   "metadata": {},
   "source": [
    "### Training the Network\n",
    "Now all it takes to train this network is show it a bunch of examples, have it make guesses, and tell it if it’s wrong.\n",
    "\n",
    "For the loss function nn.NLLLoss is appropriate, since the last layer of the RNN is nn.LogSoftmax."
   ]
  },
  {
   "cell_type": "code",
   "execution_count": 78,
   "id": "122bdeff",
   "metadata": {},
   "outputs": [],
   "source": [
    "criterion = nn.NLLLoss()"
   ]
  },
  {
   "attachments": {},
   "cell_type": "markdown",
   "id": "e304bb71",
   "metadata": {},
   "source": [
    "Each loop of training will:\n",
    "\n",
    "- Create input and target tensors\n",
    "- Create a zeroed initial hidden state\n",
    "- Read each letter in and keep hidden state for next letter\n",
    "- Compare final output to target\n",
    "- Back-propagate\n",
    "- Return the output and loss"
   ]
  },
  {
   "cell_type": "code",
   "execution_count": 79,
   "id": "602ea715",
   "metadata": {},
   "outputs": [
    {
     "name": "stdout",
     "output_type": "stream",
     "text": [
      "GRU(\n",
      "  (gru_cell): GRUCell(\n",
      "    (sigmoid): Sigmoid()\n",
      "    (tanh): Tanh()\n",
      "    (i_rgate): Linear(in_features=57, out_features=128, bias=True)\n",
      "    (h_rgate): Linear(in_features=128, out_features=128, bias=True)\n",
      "    (i_zgate): Linear(in_features=57, out_features=128, bias=True)\n",
      "    (h_zgate): Linear(in_features=128, out_features=128, bias=True)\n",
      "    (i_cell): Linear(in_features=57, out_features=128, bias=True)\n",
      "    (h_cell): Linear(in_features=128, out_features=128, bias=True)\n",
      "    (i_hgate): Linear(in_features=57, out_features=128, bias=True)\n",
      "    (h_hgate): Linear(in_features=128, out_features=128, bias=True)\n",
      "  )\n",
      "  (fc): Linear(in_features=128, out_features=18, bias=True)\n",
      "  (softmax): LogSoftmax(dim=1)\n",
      ")\n"
     ]
    }
   ],
   "source": [
    "model = gru\n",
    "print(model)\n",
    "learning_rate = 0.005 # If you set this too high, it might explode. If too low, it might not learn\n",
    "optimizer = torch.optim.Adam(model.parameters(), lr=learning_rate)\n",
    "def train(category_tensor, line_tensor):\n",
    "    hidden = model.initHidden()\n",
    "\n",
    "    model.zero_grad()\n",
    "\n",
    "    for i in range(line_tensor.size()[0]):\n",
    "        output, hidden = model(line_tensor[i], hidden)\n",
    "\n",
    "    loss = criterion(output, category_tensor)\n",
    "    loss.backward()\n",
    "\n",
    "    # Add parameters' gradients to their values, multiplied by learning rate\n",
    "    \"\"\"\n",
    "    for p in lstm.parameters():\n",
    "        p.data.add_(p.grad.data, alpha=-learning_rate)\n",
    "    \"\"\"\n",
    "    optimizer.step()\n",
    "\n",
    "    return output, loss.item()"
   ]
  },
  {
   "attachments": {},
   "cell_type": "markdown",
   "id": "eed19e81",
   "metadata": {},
   "source": [
    "Now we just have to run that with a bunch of examples. Since the train function returns both the output and loss we can print its guesses and also keep track of loss for plotting. Since there are 1000s of examples we print only every print_every examples, and take an average of the loss."
   ]
  },
  {
   "cell_type": "code",
   "execution_count": 80,
   "id": "e0dfe2c3",
   "metadata": {},
   "outputs": [
    {
     "name": "stdout",
     "output_type": "stream",
     "text": [
      "5000 3% (0m 57s) 1.6332 Chu / Vietnamese ✗ (Korean)\n",
      "10000 6% (1m 55s) 0.3821 Raske / Dutch ✓\n",
      "15000 10% (2m 54s) 0.0405 Khoury / Arabic ✓\n",
      "20000 13% (3m 52s) 1.1476 Colon / Spanish ✓\n",
      "25000 16% (4m 50s) 1.6051 Bui / Chinese ✗ (Vietnamese)\n",
      "30000 20% (5m 48s) 0.0000 Koutsoubos / Greek ✓\n",
      "35000 23% (6m 46s) 0.0296 Gwang  / Korean ✓\n",
      "40000 26% (7m 44s) 0.0000 Filipowski / Polish ✓\n",
      "45000 30% (8m 41s) 0.1775 Mahoney / Irish ✓\n",
      "50000 33% (9m 40s) 0.6445 Wiegand / German ✓\n",
      "55000 36% (10m 37s) 3.1661 Baird / French ✗ (English)\n",
      "60000 40% (11m 36s) 2.1414 Hlopotnya / Polish ✗ (Russian)\n",
      "65000 43% (12m 34s) 0.9695 Prill / Czech ✓\n",
      "70000 46% (13m 31s) 0.0019 Trieu / Vietnamese ✓\n",
      "75000 50% (14m 30s) 2.1451 Lobo / Spanish ✗ (Portuguese)\n",
      "80000 53% (15m 28s) 0.3610 Buggenum / Dutch ✓\n",
      "85000 56% (16m 25s) 3.7852 Remeslo / Spanish ✗ (Russian)\n",
      "90000 60% (17m 23s) 0.0037 Rokhmanov / Russian ✓\n",
      "95000 63% (18m 21s) 0.7619 Wasem / Arabic ✓\n",
      "100000 66% (19m 20s) 0.0042 Barbieri / Italian ✓\n",
      "105000 70% (20m 18s) 1.1476 Myers / Dutch ✗ (English)\n",
      "110000 73% (21m 17s) 3.5688 Abascal / Czech ✗ (Spanish)\n",
      "115000 76% (22m 15s) 0.0416 Allegri / Italian ✓\n",
      "120000 80% (23m 13s) 2.3901 Capello / Spanish ✗ (Italian)\n",
      "125000 83% (24m 11s) 1.7336 Bale / Dutch ✗ (English)\n",
      "130000 86% (25m 9s) 0.7760 Stevenson / English ✗ (Scottish)\n",
      "135000 90% (26m 7s) 0.0061 Chukhin / Russian ✓\n",
      "140000 93% (27m 5s) 1.4287 Manus / Portuguese ✗ (Irish)\n",
      "145000 96% (28m 2s) 0.0303 Zabala / Spanish ✓\n",
      "150000 100% (29m 1s) 0.0000 Kunikida / Japanese ✓\n"
     ]
    }
   ],
   "source": [
    "import time\n",
    "import math\n",
    "\n",
    "n_iters = 150000\n",
    "print_every = 5000\n",
    "plot_every = 1000\n",
    "\n",
    "\n",
    "# Keep track of losses for plotting\n",
    "current_loss = 0\n",
    "current_acc = 0\n",
    "all_losses = []\n",
    "all_acc = []\n",
    "\n",
    "def timeSince(since):\n",
    "    now = time.time()\n",
    "    s = now - since\n",
    "    m = math.floor(s / 60)\n",
    "    s -= m * 60\n",
    "    return '%dm %ds' % (m, s)\n",
    "\n",
    "start = time.time()\n",
    "\n",
    "for iter in range(1, n_iters + 1):\n",
    "    category, line, category_tensor, line_tensor = randomTrainingExample()\n",
    "    output, loss = train(category_tensor, line_tensor)\n",
    "    current_loss += loss\n",
    "\n",
    "    guess, guess_i = categoryFromOutput(output)\n",
    "    if guess == category:\n",
    "        current_acc += 1\n",
    "    # Print iter number, loss, name and guess\n",
    "    if iter % print_every == 0:\n",
    "        correct = '✓' if guess == category else '✗ (%s)' % category\n",
    "        print('%d %d%% (%s) %.4f %s / %s %s' % (iter, iter / n_iters * 100, timeSince(start), loss, line, guess, correct))\n",
    "\n",
    "    # Add current loss avg to list of losses\n",
    "    if iter % plot_every == 0:\n",
    "        all_losses.append(current_loss / plot_every)\n",
    "        all_acc.append(current_acc / plot_every)\n",
    "        current_loss = 0\n",
    "        current_acc = 0"
   ]
  },
  {
   "attachments": {},
   "cell_type": "markdown",
   "id": "9919c0b4",
   "metadata": {},
   "source": [
    "### Plotting the Results\n",
    "Plotting the historical loss from all_losses shows the network learning:"
   ]
  },
  {
   "cell_type": "code",
   "execution_count": 81,
   "id": "5533ea72",
   "metadata": {},
   "outputs": [
    {
     "data": {
      "text/plain": [
       "Text(0.5, 1.0, 'accuracy')"
      ]
     },
     "execution_count": 81,
     "metadata": {},
     "output_type": "execute_result"
    },
    {
     "data": {
      "image/png": "[encoded data removed]",
      "text/plain": [
       "<Figure size 360x216 with 1 Axes>"
      ]
     },
     "metadata": {
      "needs_background": "light"
     },
     "output_type": "display_data"
    },
    {
     "data": {
      "image/png": "[encoded data removed]",
      "text/plain": [
       "<Figure size 360x216 with 1 Axes>"
      ]
     },
     "metadata": {
      "needs_background": "light"
     },
     "output_type": "display_data"
    }
   ],
   "source": [
    "import matplotlib.pyplot as plt\n",
    "import matplotlib.ticker as ticker\n",
    "\n",
    "plt.figure(figsize=(5,3))\n",
    "plt.plot(all_losses)\n",
    "plt.title('loss')\n",
    "plt.figure(figsize=(5,3))\n",
    "plt.plot(all_acc)\n",
    "plt.title('accuracy')"
   ]
  },
  {
   "attachments": {},
   "cell_type": "markdown",
   "id": "44d8a092",
   "metadata": {},
   "source": [
    "### Evaluating the Results\n",
    "To see how well the network performs on different categories, we will create a confusion matrix, indicating for every actual language (rows) which language the network guesses (columns). To calculate the confusion matrix a bunch of samples are run through the network with evaluate(), which is the same as train() minus the backprop."
   ]
  },
  {
   "cell_type": "code",
   "execution_count": 82,
   "id": "71e6c595",
   "metadata": {
    "scrolled": true
   },
   "outputs": [
    {
     "name": "stderr",
     "output_type": "stream",
     "text": [
      "/usr/local/lib/python3.6/dist-packages/ipykernel_launcher.py:33: UserWarning: FixedFormatter should only be used together with FixedLocator\n",
      "/usr/local/lib/python3.6/dist-packages/ipykernel_launcher.py:34: UserWarning: FixedFormatter should only be used together with FixedLocator\n"
     ]
    },
    {
     "data": {
      "image/png": "[encoded data removed]",
      "text/plain": [
       "<Figure size 432x288 with 2 Axes>"
      ]
     },
     "metadata": {
      "needs_background": "light"
     },
     "output_type": "display_data"
    }
   ],
   "source": [
    "# Keep track of correct guesses in a confusion matrix\n",
    "confusion = torch.zeros(n_categories, n_categories)\n",
    "n_confusion = 10000\n",
    "\n",
    "# Just return an output given a line\n",
    "def evaluate(line_tensor):\n",
    "    hidden = model.initHidden()\n",
    "\n",
    "    for i in range(line_tensor.size()[0]):\n",
    "        output, hidden = model(line_tensor[i], hidden)\n",
    "\n",
    "    return output\n",
    "\n",
    "# Go through a bunch of examples and record which are correctly guessed\n",
    "for i in range(n_confusion):\n",
    "    category, line, category_tensor, line_tensor = randomTrainingExample()\n",
    "    output = evaluate(line_tensor)\n",
    "    guess, guess_i = categoryFromOutput(output)\n",
    "    category_i = all_categories.index(category)\n",
    "    confusion[category_i][guess_i] += 1\n",
    "\n",
    "# Normalize by dividing every row by its sum\n",
    "for i in range(n_categories):\n",
    "    confusion[i] = confusion[i] / confusion[i].sum()\n",
    "\n",
    "# Set up plot\n",
    "fig = plt.figure()\n",
    "ax = fig.add_subplot(111)\n",
    "cax = ax.matshow(confusion.numpy())\n",
    "fig.colorbar(cax)\n",
    "\n",
    "# Set up axes\n",
    "ax.set_xticklabels([''] + all_categories, rotation=90)\n",
    "ax.set_yticklabels([''] + all_categories)\n",
    "\n",
    "# Force label at every tick\n",
    "ax.xaxis.set_major_locator(ticker.MultipleLocator(1))\n",
    "ax.yaxis.set_major_locator(ticker.MultipleLocator(1))\n",
    "\n",
    "# sphinx_gallery_thumbnail_number = 2\n",
    "plt.show()"
   ]
  },
  {
   "attachments": {},
   "cell_type": "markdown",
   "id": "b65115e1",
   "metadata": {},
   "source": [
    "You can pick out bright spots off the main axis that show which languages it guesses incorrectly, e.g. Chinese for Korean, and Spanish for Italian. It seems to do very well with Greek, and very poorly with English (perhaps because of overlap with other languages)."
   ]
  },
  {
   "attachments": {},
   "cell_type": "markdown",
   "id": "dfe1c01e",
   "metadata": {},
   "source": [
    "### Running on User Input"
   ]
  },
  {
   "cell_type": "code",
   "execution_count": 83,
   "id": "23a19ee4",
   "metadata": {},
   "outputs": [
    {
     "name": "stdout",
     "output_type": "stream",
     "text": [
      "\n",
      "> Dovesky\n",
      "(0.87) Czech\n",
      "(0.09) Russian\n",
      "(0.03) English\n",
      "\n",
      "> Jackson\n",
      "(1.00) Scottish\n",
      "(0.00) English\n",
      "(0.00) Czech\n",
      "\n",
      "> Hou\n",
      "(0.81) Chinese\n",
      "(0.18) Korean\n",
      "(0.01) Vietnamese\n",
      "\n",
      "> Burgstaller\n",
      "(0.46) English\n",
      "(0.25) German\n",
      "(0.16) Scottish\n",
      "\n",
      "> Diefenbach\n",
      "(0.74) German\n",
      "(0.10) English\n",
      "(0.10) Vietnamese\n"
     ]
    }
   ],
   "source": [
    "import math\n",
    "import numpy as np\n",
    "\n",
    "def predict(input_line, n_predictions=3):\n",
    "    print('\\n> %s' % input_line)\n",
    "    with torch.no_grad():\n",
    "        output = evaluate(lineToTensor(input_line))\n",
    "\n",
    "        # Get top N categories\n",
    "        topv, topi = output.topk(n_predictions, 1, True)\n",
    "        predictions = []\n",
    "\n",
    "        for i in range(n_predictions):\n",
    "            value = topv[0][i].item()\n",
    "            category_index = topi[0][i].item()\n",
    "            print('(%.2f) %s' % (np.exp(value), all_categories[category_index]))\n",
    "            predictions.append([value, all_categories[category_index]])\n",
    "\n",
    "predict('Dovesky')\n",
    "predict('Jackson')\n",
    "predict('Hou')\n",
    "\n",
    "predict('Burgstaller')\n",
    "predict('Diefenbach')"
   ]
  },
  {
   "cell_type": "code",
   "execution_count": null,
   "id": "3a170e12",
   "metadata": {},
   "outputs": [],
   "source": []
  }
 ],
 "metadata": {
  "kernelspec": {
   "display_name": "Python 3",
   "language": "python",
   "name": "python3"
  },
  "language_info": {
   "codemirror_mode": {
    "name": "ipython",
    "version": 3
   },
   "file_extension": ".py",
   "mimetype": "text/x-python",
   "name": "python",
   "nbconvert_exporter": "python",
   "pygments_lexer": "ipython3",
   "version": "3.6.9"
  }
 },
 "nbformat": 4,
 "nbformat_minor": 5
}
